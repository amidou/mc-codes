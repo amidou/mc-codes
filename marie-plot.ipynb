{
 "cells": [
  {
   "cell_type": "code",
   "execution_count": 11,
   "id": "synthetic-architect",
   "metadata": {},
   "outputs": [],
   "source": [
    "import numpy as np\n",
    "import pandas as pd\n",
    "import matplotlib.pyplot as plt\n",
    "### install ipympl for this (with `python3 -m pip insall ipympl`)\n",
    "%matplotlib widget"
   ]
  },
  {
   "cell_type": "code",
   "execution_count": 10,
   "id": "sixth-accused",
   "metadata": {},
   "outputs": [
    {
     "data": {
      "application/vnd.jupyter.widget-view+json": {
       "model_id": "d59b094e739246e39c997f6336bfebbc",
       "version_major": 2,
       "version_minor": 0
      },
      "text/plain": [
       "Canvas(toolbar=Toolbar(toolitems=[('Home', 'Reset original view', 'home', 'home'), ('Back', 'Back to previous …"
      ]
     },
     "metadata": {},
     "output_type": "display_data"
    }
   ],
   "source": [
    "data = pd.read_csv('test_stellar_baryonic_mass_DZ.txt', engine='python', sep=r'\\s{2,}')\n",
    "logms = np.log10(data['stellarmass10^9']*1e9)\n",
    "x = 10**(logms - data.logM200)\n",
    "y = data.s1\n",
    "\n",
    "def alpha(x, n=-0.158, n1=26.49, x0=8.77e-3, x1=9.44e-5, beta=0.85, gamma=1.66):\n",
    "    fac = n1 * (1.+x/x1)**(-beta) + (x/x0)**gamma\n",
    "    return -(n - np.log10(fac))\n",
    "\n",
    "plt.figure(figsize=(10,8))\n",
    "plt.plot(x, y, 'ko')\n",
    "plt.plot(x, alpha(x),'b.')\n",
    "plt.xlabel('Ms/M200', size=15)\n",
    "plt.xscale('log')\n",
    "plt.ylabel('s1', size=15);\n",
    "# plt.xlim(1e-4,1);\n",
    "# plt.savefig('marie-mratio-s1.pdf')"
   ]
  },
  {
   "cell_type": "code",
   "execution_count": null,
   "id": "compatible-maximum",
   "metadata": {},
   "outputs": [],
   "source": []
  }
 ],
 "metadata": {
  "kernelspec": {
   "display_name": "Python 3",
   "language": "python",
   "name": "python3"
  },
  "language_info": {
   "codemirror_mode": {
    "name": "ipython",
    "version": 3
   },
   "file_extension": ".py",
   "mimetype": "text/x-python",
   "name": "python",
   "nbconvert_exporter": "python",
   "pygments_lexer": "ipython3",
   "version": "3.9.1"
  }
 },
 "nbformat": 4,
 "nbformat_minor": 5
}
